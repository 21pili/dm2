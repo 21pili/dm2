{
 "cells": [
  {
   "cell_type": "markdown",
   "metadata": {},
   "source": [
    "# HP Filter\n",
    "This notebook aims at computing and saving the HP Filter matrix."
   ]
  },
  {
   "cell_type": "code",
   "execution_count": 33,
   "metadata": {},
   "outputs": [],
   "source": [
    "import numpy as np"
   ]
  },
  {
   "cell_type": "code",
   "execution_count": 34,
   "metadata": {},
   "outputs": [],
   "source": [
    "N = 25\n",
    "lam = 100"
   ]
  },
  {
   "cell_type": "code",
   "execution_count": 35,
   "metadata": {},
   "outputs": [],
   "source": [
    "def create_pentadiagonal_matrix(size):\n",
    "    \"\"\"\n",
    "    Crée une matrice pentadiagonale avec des valeurs spécifiées sur chaque diagonale.\n",
    "    \n",
    "    Parameters:\n",
    "    - size : size of the matrix\n",
    "\n",
    "    Returns:\n",
    "    - matrice: Matrice pentadiagonale.\n",
    "    \"\"\"\n",
    "\n",
    "    matrix_size = size\n",
    "    matrix = np.zeros((matrix_size, matrix_size))\n",
    "\n",
    "    # Remplissage des diagonales\n",
    "    np.fill_diagonal(matrix[0:], 6)\n",
    "    np.fill_diagonal(matrix[:, 1:], -4)\n",
    "    np.fill_diagonal(matrix[:, 2:], 1)\n",
    "    np.fill_diagonal(matrix[1:, :], -4)\n",
    "    np.fill_diagonal(matrix[2:, :], 1)\n",
    "\n",
    "    #Valeurs particulières\n",
    "    matrix[0, 0] = 1\n",
    "    matrix[1, 0] = -2\n",
    "    matrix[0, 1] = -2\n",
    "    matrix[1, 1] = 5\n",
    "    matrix[-1, -1] = 1\n",
    "    matrix[-2, -1] = -2\n",
    "    matrix[-1, -2] = -2\n",
    "    matrix[-2, -2] = 5\n",
    "\n",
    "    return matrix"
   ]
  },
  {
   "cell_type": "code",
   "execution_count": 36,
   "metadata": {},
   "outputs": [],
   "source": [
    "F = create_pentadiagonal_matrix(N)\n",
    "I = np.eye(N=N)\n",
    "M = np.linalg.inv(I + lam * F)"
   ]
  },
  {
   "cell_type": "code",
   "execution_count": 38,
   "metadata": {},
   "outputs": [],
   "source": [
    "# Sauvegarder la matrice dans un fichier CSV\n",
    "np.savetxt('../INTERMEDIATE/hp_matrix.csv', M, delimiter=',')"
   ]
  },
  {
   "cell_type": "code",
   "execution_count": null,
   "metadata": {},
   "outputs": [],
   "source": []
  }
 ],
 "metadata": {
  "kernelspec": {
   "display_name": "Python 3",
   "language": "python",
   "name": "python3"
  },
  "language_info": {
   "codemirror_mode": {
    "name": "ipython",
    "version": 3
   },
   "file_extension": ".py",
   "mimetype": "text/x-python",
   "name": "python",
   "nbconvert_exporter": "python",
   "pygments_lexer": "ipython3",
   "version": "3.9.7"
  }
 },
 "nbformat": 4,
 "nbformat_minor": 2
}
